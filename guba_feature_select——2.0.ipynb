{
 "cells": [
  {
   "cell_type": "code",
   "execution_count": 1,
   "id": "b2045e8f",
   "metadata": {},
   "outputs": [
    {
     "ename": "FileNotFoundError",
     "evalue": "[Errno 2] No such file or directory: '/mnt/6980/sh600027.pkl'",
     "output_type": "error",
     "traceback": [
      "\u001b[1;31m---------------------------------------------------------------------------\u001b[0m",
      "\u001b[1;31mFileNotFoundError\u001b[0m                         Traceback (most recent call last)",
      "Input \u001b[1;32mIn [1]\u001b[0m, in \u001b[0;36m<cell line: 16>\u001b[1;34m()\u001b[0m\n\u001b[0;32m     15\u001b[0m \u001b[38;5;28;01mimport\u001b[39;00m \u001b[38;5;21;01mjson\u001b[39;00m\n\u001b[0;32m     16\u001b[0m \u001b[38;5;28;01mif\u001b[39;00m \u001b[38;5;18m__name__\u001b[39m \u001b[38;5;241m==\u001b[39m \u001b[38;5;124m'\u001b[39m\u001b[38;5;124m__main__\u001b[39m\u001b[38;5;124m'\u001b[39m:\n\u001b[0;32m     17\u001b[0m     \u001b[38;5;66;03m# a = [1, 2, 3]\u001b[39;00m\n\u001b[0;32m     18\u001b[0m     \u001b[38;5;66;03m# # 以二进制的形式打开文件\u001b[39;00m\n\u001b[0;32m     19\u001b[0m     \u001b[38;5;66;03m# with open(\"./1.pkl\", \"wb\") as f:\u001b[39;00m\n\u001b[0;32m     20\u001b[0m     \u001b[38;5;66;03m#     # 将列表a序列化后写入文件\u001b[39;00m\n\u001b[0;32m     21\u001b[0m     \u001b[38;5;66;03m#     pickle.dump(a, f)\u001b[39;00m\n\u001b[1;32m---> 22\u001b[0m     \u001b[38;5;28;01mwith\u001b[39;00m \u001b[38;5;28;43mopen\u001b[39;49m\u001b[43m(\u001b[49m\u001b[38;5;124;43m\"\u001b[39;49m\u001b[38;5;124;43m/mnt/6980/sh600027.pkl\u001b[39;49m\u001b[38;5;124;43m\"\u001b[39;49m\u001b[43m,\u001b[49m\u001b[43m \u001b[49m\u001b[38;5;124;43m'\u001b[39;49m\u001b[38;5;124;43mrb\u001b[39;49m\u001b[38;5;124;43m'\u001b[39;49m\u001b[43m)\u001b[49m \u001b[38;5;28;01mas\u001b[39;00m f:\n\u001b[0;32m     23\u001b[0m         \u001b[38;5;66;03m# 反序列化解析成列表a\u001b[39;00m\n\u001b[0;32m     24\u001b[0m         a \u001b[38;5;241m=\u001b[39m pickle\u001b[38;5;241m.\u001b[39mload(f)\n\u001b[0;32m     25\u001b[0m \u001b[38;5;66;03m#     print(a, a.__class__)  # [1, 2, 3] <class 'list'>\u001b[39;00m\n",
      "\u001b[1;31mFileNotFoundError\u001b[0m: [Errno 2] No such file or directory: '/mnt/6980/sh600027.pkl'"
     ]
    }
   ],
   "source": [
    "# # -*- coding: utf-8 -*-\n",
    "# \"\"\"\n",
    "# Created on Fri Feb 17 15:05:43 2023\n",
    "\n",
    "# @author: asus\n",
    "# \"\"\"\n",
    "\n",
    "# import pickle\n",
    "\n",
    "# f = open('C:\\\\Users\\\\asus\\\\Desktop\\\\6980\\\\sample data\\\\sh600027.pkl','rb')\n",
    "# info = pickle.load(f)\n",
    "# print (info) \n",
    "\n",
    "import pickle\n",
    "import json\n",
    "if __name__ == '__main__':\n",
    "    # a = [1, 2, 3]\n",
    "    # # 以二进制的形式打开文件\n",
    "    # with open(\"./1.pkl\", \"wb\") as f:\n",
    "    #     # 将列表a序列化后写入文件\n",
    "    #     pickle.dump(a, f)\n",
    "    with open(\"/mnt/6980/sh600027.pkl\", 'rb') as f:\n",
    "        # 反序列化解析成列表a\n",
    "        a = pickle.load(f)\n",
    "#     print(a, a.__class__)  # [1, 2, 3] <class 'list'>\n",
    "    with open(\"/mnt/6980/bot_users.json\") as f:\n",
    "        rob = json.load(f)\n"
   ]
  },
  {
   "cell_type": "code",
   "execution_count": 2,
   "id": "b0c512f3",
   "metadata": {},
   "outputs": [
    {
     "ename": "NameError",
     "evalue": "name 'a' is not defined",
     "output_type": "error",
     "traceback": [
      "\u001b[1;31m---------------------------------------------------------------------------\u001b[0m",
      "\u001b[1;31mNameError\u001b[0m                                 Traceback (most recent call last)",
      "Input \u001b[1;32mIn [2]\u001b[0m, in \u001b[0;36m<cell line: 1>\u001b[1;34m()\u001b[0m\n\u001b[1;32m----> 1\u001b[0m \u001b[38;5;28mlen\u001b[39m(\u001b[43ma\u001b[49m)\n",
      "\u001b[1;31mNameError\u001b[0m: name 'a' is not defined"
     ]
    }
   ],
   "source": [
    "len(a)\n"
   ]
  },
  {
   "cell_type": "code",
   "execution_count": 17,
   "id": "5be717ee",
   "metadata": {},
   "outputs": [
    {
     "data": {
      "text/plain": [
       "dict"
      ]
     },
     "execution_count": 17,
     "metadata": {},
     "output_type": "execute_result"
    }
   ],
   "source": [
    "a.__class__"
   ]
  },
  {
   "cell_type": "code",
   "execution_count": 18,
   "id": "956f0e51",
   "metadata": {},
   "outputs": [
    {
     "data": {
      "text/plain": [
       "{'body': {'post_id': 1000004755,\n",
       "  'post_user': {'user_id': '9968113093535966',\n",
       "   'user_nickname': '老韭菜进行时',\n",
       "   'user_name': 'bluesky1962',\n",
       "   'user_v': 0,\n",
       "   'user_type': 0,\n",
       "   'user_is_majia': False,\n",
       "   'user_level': 0,\n",
       "   'user_first_en_name': 'ljcjxs',\n",
       "   'user_age': '10.3年',\n",
       "   'user_influ_level': 7,\n",
       "   'user_black_type': 0,\n",
       "   'user_bizflag': '',\n",
       "   'user_bizsubflag': '',\n",
       "   'user_extend': None,\n",
       "   'user_introduce': '投资策略坚持价值投资,不割肉,不赚钱不卖。任凭风雨东西南北刮,我稳坐中台赏！',\n",
       "   'user_extendinfos': {'user_accreditinfos': None,\n",
       "    'deactive': '0',\n",
       "    'user_v_hide': None},\n",
       "   'user_medal_details': [],\n",
       "   'passport_medal_details': {'medal_list': None, 'medal_count': 0}},\n",
       "  'post_guba': {'stockbar_type': 2,\n",
       "   'stockbar_code': '600027',\n",
       "   'stockbar_inner_code': '600027',\n",
       "   'stockbar_name': '华电国际',\n",
       "   'stockbar_market': '600027.sh',\n",
       "   'stockbar_quote': 1,\n",
       "   'stockbar_exchange': 100,\n",
       "   'stockbar_external_code': '600027'},\n",
       "  'post_title': '有的人把华电国际与华电能源进行比较,却不懂那2个没有可比性。华电国际主要在山东等',\n",
       "  'post_content': '有的人把<a href=\"http://quote.eastmoney.com/SH600027.html\">华电国际</a>与<a href=\"http://quote.eastmoney.com/SH600726.html\">华电能源</a>进行比较,却不懂那2个没有可比性。<a href=\"http://quote.eastmoney.com/SH600027.html\">华电国际</a>主要在山东等地,有火电,水电,风,<a href=\"http://quote.eastmoney.com/SZ000591.html\">太阳能</a>等;<a href=\"http://quote.eastmoney.com/SH600726.html\">华电能源</a>在东北,火电,供热等。东北人觉得那是国有企业,用电用热可以不给钱的。',\n",
       "  'post_abstract': '有的人把华电国际与华电能源进行比较,却不懂那2个没有可比性。华电国际主要在山东等地,有火电,水电,风,太阳能等;华电能源在东北,火电,供热等。东北人觉得那是国有企业,用电用热可以不给钱的。',\n",
       "  'post_publish_time': '2021-01-27 09:05:32',\n",
       "  'post_last_time': '2021-01-27 09:20:48',\n",
       "  'post_display_time': '2021-01-27 09:05:32',\n",
       "  'post_ip': '',\n",
       "  'post_state': 0,\n",
       "  'post_checkState': 0,\n",
       "  'post_click_count': 1119,\n",
       "  'post_forward_count': 0,\n",
       "  'post_comment_count': 1,\n",
       "  'post_comment_authority': 0,\n",
       "  'post_like_count': 2,\n",
       "  'post_is_like': False,\n",
       "  'post_is_collected': False,\n",
       "  'post_type': 0,\n",
       "  'post_source_id': '',\n",
       "  'post_top_status': 0,\n",
       "  'post_status': 0,\n",
       "  'post_from': '东方财富Android版',\n",
       "  'post_from_num': 42,\n",
       "  'post_pdf_url': '',\n",
       "  'post_has_pic': False,\n",
       "  'has_pic_not_include_content': False,\n",
       "  'post_pic_url': [],\n",
       "  'source_post_id': 0,\n",
       "  'source_post_state': 0,\n",
       "  'source_post_user_id': '',\n",
       "  'source_post_user_nickname': '',\n",
       "  'source_post_user_type': 0,\n",
       "  'source_post_user_is_majia': False,\n",
       "  'source_post_pic_url': [],\n",
       "  'source_post_title': '',\n",
       "  'source_post_content': '',\n",
       "  'source_post_ip': '',\n",
       "  'source_post_type': 0,\n",
       "  'source_post_guba': {'stockbar_type': 0,\n",
       "   'stockbar_code': '',\n",
       "   'stockbar_inner_code': None,\n",
       "   'stockbar_name': '',\n",
       "   'stockbar_market': '',\n",
       "   'stockbar_quote': -1,\n",
       "   'stockbar_exchange': -1,\n",
       "   'stockbar_external_code': ''},\n",
       "  'post_video_url': None,\n",
       "  'source_post_video_url': None,\n",
       "  'source_post_source_id': '',\n",
       "  'code_name': '600027.sh',\n",
       "  'product_type': '0',\n",
       "  'v_user_code': '0',\n",
       "  'source_click_count': None,\n",
       "  'source_comment_count': '',\n",
       "  'source_forward_count': '',\n",
       "  'source_publish_time': '',\n",
       "  'source_user_is_majia': 'False',\n",
       "  'ask_chairman_state': None,\n",
       "  'selected_post_code': '',\n",
       "  'selected_post_name': '',\n",
       "  'selected_relate_guba': None,\n",
       "  'ask_question': None,\n",
       "  'ask_answer': None,\n",
       "  'qa': None,\n",
       "  'fp_code': 'u68',\n",
       "  'codepost_count': 85235,\n",
       "  'extend': {},\n",
       "  'post_pic_url2': [],\n",
       "  'source_post_pic_url2': [],\n",
       "  'relate_topic': {'id': '',\n",
       "   'name': '',\n",
       "   'h5_url': '',\n",
       "   'btype': None,\n",
       "   'stype': None,\n",
       "   'guide': '',\n",
       "   'version': 0},\n",
       "  'source_extend': None,\n",
       "  'digest_type': 10,\n",
       "  'source_post_atuser': [],\n",
       "  'post_inshare_count': 0,\n",
       "  'repost_state': 0,\n",
       "  'post_atuser': [],\n",
       "  'reptile_state': 0,\n",
       "  'post_add_list': None,\n",
       "  'extend_version': 0},\n",
       " 'reply': [{'child_replys': [],\n",
       "   'fake_child_replys': [],\n",
       "   'reply_count': 0,\n",
       "   'reply_id': 8972821719,\n",
       "   'source_post_code': '600027',\n",
       "   'source_post_id': 1000004755,\n",
       "   'reply_state': 0,\n",
       "   'user_id': '4839335771971000',\n",
       "   'reply_time': '2021-01-27 09:18:06',\n",
       "   'reply_publish_time': '2021-01-27 09:18:06',\n",
       "   'reply_text': '东北人民出来说两句，用电不用付钱么[想一下] ',\n",
       "   'reply_picture': '',\n",
       "   'reply_is_top': False,\n",
       "   'reply_like_count': 0,\n",
       "   'reply_is_like': False,\n",
       "   'reply_is_author': False,\n",
       "   'reply_is_amazing': False,\n",
       "   'reply_is_follow': False,\n",
       "   'reply_user': {'user_id': '4839335771971000',\n",
       "    'user_nickname': '北极星原',\n",
       "    'user_name': 'n4839335771971000',\n",
       "    'user_v': 0,\n",
       "    'user_type': 0,\n",
       "    'user_is_majia': False,\n",
       "    'user_level': 0,\n",
       "    'user_first_en_name': 'bjxy',\n",
       "    'user_age': '1.7年',\n",
       "    'user_influ_level': 4,\n",
       "    'user_black_type': 0,\n",
       "    'user_third_intro': None,\n",
       "    'user_bizflag': '',\n",
       "    'user_bizsubflag': '',\n",
       "    'user_medal_details': None,\n",
       "    'user_extendinfos': {'user_accreditinfos': None,\n",
       "     'deactive': '0',\n",
       "     'user_v_hide': None}},\n",
       "   'reply_ar': '上海网友',\n",
       "   'reply_from': 42,\n",
       "   'reply_extend': None}]}"
      ]
     },
     "execution_count": 18,
     "metadata": {},
     "output_type": "execute_result"
    }
   ],
   "source": [
    "a[0]"
   ]
  },
  {
   "cell_type": "code",
   "execution_count": 19,
   "id": "a98db333",
   "metadata": {},
   "outputs": [
    {
     "data": {
      "text/plain": [
       "{'body': {'post_id': 1000009427,\n",
       "  'post_user': {'user_id': '7538385548031056',\n",
       "   'user_nickname': '满阳台的蔬菜',\n",
       "   'user_name': 'k7538385548031056',\n",
       "   'user_v': 0,\n",
       "   'user_type': 0,\n",
       "   'user_is_majia': False,\n",
       "   'user_level': 0,\n",
       "   'user_first_en_name': 'mytdsc',\n",
       "   'user_age': '2.2年',\n",
       "   'user_influ_level': 4,\n",
       "   'user_black_type': 0,\n",
       "   'user_bizflag': '',\n",
       "   'user_bizsubflag': '',\n",
       "   'user_extend': None,\n",
       "   'user_introduce': '这个人很懒，什么都没有留下',\n",
       "   'user_extendinfos': {'user_accreditinfos': None, 'deactive': '0'},\n",
       "   'user_medal_details': []},\n",
       "  'post_guba': {'stockbar_type': 2,\n",
       "   'stockbar_code': '600027',\n",
       "   'stockbar_inner_code': '600027',\n",
       "   'stockbar_name': '华电国际',\n",
       "   'stockbar_market': '600027.sh',\n",
       "   'stockbar_quote': 1,\n",
       "   'stockbar_exchange': 100,\n",
       "   'stockbar_external_code': '600027'},\n",
       "  'post_title': '3.00元成交1.5万手？什么情况？',\n",
       "  'post_content': '3.00元成交1.5万手？什么情况？',\n",
       "  'post_abstract': '3.00元成交1.5万手？什么情况？',\n",
       "  'post_publish_time': '2021-01-27 09:19:11',\n",
       "  'post_last_time': '2021-01-27 09:40:20',\n",
       "  'post_display_time': '2021-01-27 09:19:11',\n",
       "  'post_ip': '',\n",
       "  'post_state': 0,\n",
       "  'post_checkState': 0,\n",
       "  'post_click_count': 488,\n",
       "  'post_forward_count': 0,\n",
       "  'post_comment_count': 3,\n",
       "  'post_comment_authority': 0,\n",
       "  'post_like_count': 3,\n",
       "  'post_is_like': False,\n",
       "  'post_is_collected': False,\n",
       "  'post_type': 0,\n",
       "  'post_source_id': '',\n",
       "  'post_top_status': 0,\n",
       "  'post_status': 0,\n",
       "  'post_from': '股吧手机网页版',\n",
       "  'post_from_num': 25,\n",
       "  'post_pdf_url': '',\n",
       "  'post_has_pic': False,\n",
       "  'has_pic_not_include_content': False,\n",
       "  'post_pic_url': [],\n",
       "  'source_post_id': 0,\n",
       "  'source_post_state': 0,\n",
       "  'source_post_user_id': '',\n",
       "  'source_post_user_nickname': '',\n",
       "  'source_post_user_type': 0,\n",
       "  'source_post_user_is_majia': False,\n",
       "  'source_post_pic_url': [],\n",
       "  'source_post_title': '',\n",
       "  'source_post_content': '',\n",
       "  'source_post_ip': '',\n",
       "  'source_post_type': 0,\n",
       "  'source_post_guba': {'stockbar_type': 0,\n",
       "   'stockbar_code': '',\n",
       "   'stockbar_inner_code': None,\n",
       "   'stockbar_name': '',\n",
       "   'stockbar_market': '',\n",
       "   'stockbar_quote': -1,\n",
       "   'stockbar_exchange': -1,\n",
       "   'stockbar_external_code': ''},\n",
       "  'post_video_url': None,\n",
       "  'source_post_video_url': None,\n",
       "  'source_post_source_id': '',\n",
       "  'code_name': '600027.sh',\n",
       "  'product_type': '0',\n",
       "  'v_user_code': '0',\n",
       "  'source_click_count': None,\n",
       "  'source_comment_count': '',\n",
       "  'source_forward_count': '',\n",
       "  'source_publish_time': '',\n",
       "  'source_user_is_majia': 'False',\n",
       "  'ask_chairman_state': None,\n",
       "  'selected_post_code': '',\n",
       "  'selected_post_name': '',\n",
       "  'selected_relate_guba': None,\n",
       "  'ask_question': None,\n",
       "  'ask_answer': None,\n",
       "  'qa': None,\n",
       "  'fp_code': 'u38',\n",
       "  'codepost_count': 84276,\n",
       "  'extend': {},\n",
       "  'post_pic_url2': [],\n",
       "  'source_post_pic_url2': [],\n",
       "  'relate_topic': {'id': '',\n",
       "   'name': '',\n",
       "   'h5_url': '',\n",
       "   'btype': None,\n",
       "   'stype': None,\n",
       "   'guide': '',\n",
       "   'version': 0},\n",
       "  'source_extend': None,\n",
       "  'digest_type': 0,\n",
       "  'source_post_atuser': [],\n",
       "  'post_inshare_count': 0,\n",
       "  'repost_state': 0,\n",
       "  'post_atuser': [],\n",
       "  'reptile_state': 0,\n",
       "  'post_add_list': None,\n",
       "  'extend_version': 0},\n",
       " 'reply': [{'child_replys': [],\n",
       "   'fake_child_replys': [],\n",
       "   'reply_count': 0,\n",
       "   'reply_id': 8972828655,\n",
       "   'source_post_code': '600027',\n",
       "   'source_post_id': 1000009427,\n",
       "   'reply_state': 0,\n",
       "   'user_id': '2663013757552674',\n",
       "   'reply_time': '2021-01-27 09:30:17',\n",
       "   'reply_publish_time': '2021-01-27 09:30:17',\n",
       "   'reply_text': '没成交，撤单了 ',\n",
       "   'reply_picture': '',\n",
       "   'reply_is_top': False,\n",
       "   'reply_like_count': 0,\n",
       "   'reply_is_like': False,\n",
       "   'reply_is_author': False,\n",
       "   'reply_is_amazing': False,\n",
       "   'reply_is_follow': False,\n",
       "   'reply_user': {'user_id': '2663013757552674',\n",
       "    'user_nickname': 'echo9999',\n",
       "    'user_name': '',\n",
       "    'user_v': 0,\n",
       "    'user_type': 0,\n",
       "    'user_is_majia': False,\n",
       "    'user_level': 0,\n",
       "    'user_first_en_name': 'echo9999',\n",
       "    'user_age': '8年',\n",
       "    'user_influ_level': 2,\n",
       "    'user_black_type': 0,\n",
       "    'user_third_intro': None,\n",
       "    'user_bizflag': '',\n",
       "    'user_bizsubflag': '',\n",
       "    'user_medal_details': None,\n",
       "    'user_extendinfos': {'user_accreditinfos': None, 'deactive': '0'}},\n",
       "   'reply_ar': '上海网友',\n",
       "   'reply_from': 46,\n",
       "   'reply_extend': None},\n",
       "  {'child_replys': [],\n",
       "   'fake_child_replys': [],\n",
       "   'reply_count': 0,\n",
       "   'reply_id': 8972828374,\n",
       "   'source_post_code': '600027',\n",
       "   'source_post_id': 1000009427,\n",
       "   'reply_state': 0,\n",
       "   'user_id': '5246396049893216',\n",
       "   'reply_time': '2021-01-27 09:29:47',\n",
       "   'reply_publish_time': '2021-01-27 09:29:47',\n",
       "   'reply_text': '这是不是坏事啊？ ',\n",
       "   'reply_picture': '',\n",
       "   'reply_is_top': False,\n",
       "   'reply_like_count': 0,\n",
       "   'reply_is_like': False,\n",
       "   'reply_is_author': False,\n",
       "   'reply_is_amazing': False,\n",
       "   'reply_is_follow': False,\n",
       "   'reply_user': {'user_id': '5246396049893216',\n",
       "    'user_nickname': '懂懂李博斯',\n",
       "    'user_name': 's5246396049893216',\n",
       "    'user_v': 0,\n",
       "    'user_type': 0,\n",
       "    'user_is_majia': False,\n",
       "    'user_level': 0,\n",
       "    'user_first_en_name': 'ddlbs',\n",
       "    'user_age': '7个月',\n",
       "    'user_influ_level': 3,\n",
       "    'user_black_type': 0,\n",
       "    'user_third_intro': None,\n",
       "    'user_bizflag': '',\n",
       "    'user_bizsubflag': '',\n",
       "    'user_medal_details': None,\n",
       "    'user_extendinfos': {'user_accreditinfos': None, 'deactive': '0'}},\n",
       "   'reply_ar': '上海网友',\n",
       "   'reply_from': 42,\n",
       "   'reply_extend': None},\n",
       "  {'child_replys': [],\n",
       "   'fake_child_replys': [],\n",
       "   'reply_count': 0,\n",
       "   'reply_id': 8972826309,\n",
       "   'source_post_code': '600027',\n",
       "   'source_post_id': 1000009427,\n",
       "   'reply_state': 0,\n",
       "   'user_id': '1160013300655122',\n",
       "   'reply_time': '2021-01-27 09:26:15',\n",
       "   'reply_publish_time': '2021-01-27 09:26:15',\n",
       "   'reply_text': '摸一摸下面韭菜长得好不好[拜神] ',\n",
       "   'reply_picture': '',\n",
       "   'reply_is_top': False,\n",
       "   'reply_like_count': 1,\n",
       "   'reply_is_like': False,\n",
       "   'reply_is_author': False,\n",
       "   'reply_is_amazing': False,\n",
       "   'reply_is_follow': False,\n",
       "   'reply_user': {'user_id': '1160013300655122',\n",
       "    'user_nickname': '熊市大牛专操290',\n",
       "    'user_name': 'bigbear1971',\n",
       "    'user_v': 0,\n",
       "    'user_type': 0,\n",
       "    'user_is_majia': False,\n",
       "    'user_level': 0,\n",
       "    'user_first_en_name': 'xsdnzc290',\n",
       "    'user_age': '9.5年',\n",
       "    'user_influ_level': 5,\n",
       "    'user_black_type': 0,\n",
       "    'user_third_intro': None,\n",
       "    'user_bizflag': '',\n",
       "    'user_bizsubflag': '',\n",
       "    'user_medal_details': None,\n",
       "    'user_extendinfos': {'user_accreditinfos': None, 'deactive': '0'}},\n",
       "   'reply_ar': '上海网友',\n",
       "   'reply_from': 42,\n",
       "   'reply_extend': None}]}"
      ]
     },
     "execution_count": 19,
     "metadata": {},
     "output_type": "execute_result"
    }
   ],
   "source": [
    "a[1]"
   ]
  },
  {
   "cell_type": "code",
   "execution_count": 20,
   "id": "eb6aa716",
   "metadata": {},
   "outputs": [
    {
     "data": {
      "text/plain": [
       "'2021-01-27 09:19:11'"
      ]
     },
     "execution_count": 20,
     "metadata": {},
     "output_type": "execute_result"
    }
   ],
   "source": [
    "a[1]['body']['post_publish_time']"
   ]
  },
  {
   "cell_type": "code",
   "execution_count": 21,
   "id": "21acadc6",
   "metadata": {},
   "outputs": [
    {
     "data": {
      "text/plain": [
       "str"
      ]
     },
     "execution_count": 21,
     "metadata": {},
     "output_type": "execute_result"
    }
   ],
   "source": [
    "a[0]['body'].keys()\n",
    "type(a[1]['body']['post_user']['user_id'])"
   ]
  },
  {
   "cell_type": "code",
   "execution_count": 22,
   "id": "53ec22aa",
   "metadata": {},
   "outputs": [
    {
     "name": "stdout",
     "output_type": "stream",
     "text": [
      "True\n"
     ]
    }
   ],
   "source": [
    "print(int(5084094412161024) in rob)"
   ]
  },
  {
   "cell_type": "code",
   "execution_count": null,
   "id": "e0b4e102",
   "metadata": {},
   "outputs": [],
   "source": []
  },
  {
   "cell_type": "code",
   "execution_count": 23,
   "id": "566be53f",
   "metadata": {
    "scrolled": true
   },
   "outputs": [
    {
     "name": "stdout",
     "output_type": "stream",
     "text": [
      "0\n",
      "100\n",
      "200\n",
      "300\n",
      "400\n",
      "500\n",
      "600\n",
      "700\n",
      "800\n",
      "900\n",
      "1000\n",
      "1100\n",
      "1200\n",
      "1300\n",
      "1400\n",
      "1500\n",
      "1600\n",
      "1700\n",
      "1800\n",
      "1900\n",
      "2000\n",
      "2100\n",
      "2200\n",
      "2300\n",
      "2400\n",
      "2500\n",
      "2600\n",
      "2700\n",
      "2800\n",
      "2900\n",
      "3000\n",
      "3100\n",
      "3200\n",
      "3300\n",
      "3400\n",
      "3500\n",
      "3600\n",
      "3700\n",
      "3800\n",
      "3900\n",
      "4000\n",
      "4100\n",
      "4200\n",
      "4300\n",
      "4400\n",
      "4500\n",
      "4600\n",
      "4700\n",
      "4800\n",
      "4900\n",
      "5000\n",
      "5100\n",
      "5200\n",
      "5300\n",
      "5400\n",
      "5500\n",
      "5600\n",
      "5700\n",
      "5800\n",
      "5900\n",
      "6000\n",
      "6100\n",
      "6200\n",
      "6300\n",
      "6400\n",
      "6500\n",
      "6600\n",
      "6700\n",
      "6800\n",
      "6900\n",
      "7000\n",
      "7100\n",
      "7200\n",
      "7300\n",
      "7400\n",
      "7500\n",
      "7600\n",
      "7700\n",
      "7800\n",
      "7900\n",
      "8000\n",
      "8100\n",
      "8200\n",
      "8300\n",
      "8400\n",
      "8500\n",
      "8600\n",
      "8700\n",
      "8800\n",
      "8900\n",
      "9000\n",
      "9100\n",
      "9200\n",
      "9300\n",
      "9400\n",
      "9500\n",
      "9600\n",
      "9700\n",
      "9800\n",
      "9900\n",
      "10000\n",
      "10100\n",
      "10200\n",
      "10300\n",
      "10400\n",
      "10500\n",
      "10600\n",
      "10700\n",
      "10800\n",
      "10900\n",
      "11000\n",
      "11100\n",
      "11200\n",
      "11300\n",
      "11400\n",
      "11500\n",
      "11600\n",
      "11700\n",
      "11800\n",
      "11900\n",
      "12000\n",
      "12100\n",
      "12200\n",
      "12300\n",
      "12400\n",
      "12500\n",
      "12600\n",
      "12700\n",
      "12800\n",
      "12900\n",
      "13000\n",
      "13100\n",
      "13200\n",
      "13300\n",
      "13400\n",
      "13500\n",
      "13600\n",
      "13700\n",
      "13800\n",
      "13900\n",
      "14000\n",
      "14100\n",
      "14200\n",
      "14300\n",
      "14400\n",
      "14500\n",
      "14600\n",
      "14700\n",
      "14800\n",
      "14900\n",
      "15000\n",
      "15100\n",
      "15200\n",
      "15300\n",
      "15400\n",
      "15500\n",
      "15600\n",
      "15700\n",
      "15800\n",
      "15900\n",
      "16000\n",
      "16100\n",
      "16200\n",
      "16300\n",
      "16400\n",
      "16500\n",
      "16600\n",
      "16700\n",
      "16800\n",
      "16900\n",
      "17000\n",
      "17100\n",
      "17200\n",
      "17300\n",
      "17400\n",
      "17500\n",
      "17600\n",
      "17700\n",
      "17800\n",
      "17900\n",
      "18000\n",
      "18100\n",
      "18200\n",
      "18300\n",
      "18400\n",
      "18500\n",
      "18600\n",
      "18700\n",
      "18800\n",
      "18900\n",
      "19000\n",
      "19100\n",
      "19200\n",
      "19300\n",
      "19400\n",
      "19500\n",
      "19600\n",
      "19700\n",
      "19800\n",
      "19900\n",
      "20000\n",
      "20100\n",
      "20200\n",
      "20300\n",
      "20400\n",
      "20500\n",
      "20600\n",
      "20700\n",
      "20800\n",
      "20900\n",
      "21000\n",
      "21100\n",
      "21200\n",
      "21300\n",
      "21400\n",
      "21500\n",
      "21600\n",
      "21700\n",
      "21800\n",
      "21900\n",
      "22000\n",
      "22100\n",
      "22200\n",
      "22300\n",
      "22400\n",
      "22500\n",
      "22600\n",
      "22700\n",
      "22800\n",
      "22900\n",
      "23000\n",
      "23100\n",
      "23200\n",
      "23300\n",
      "23400\n",
      "23500\n",
      "23600\n",
      "23700\n",
      "23800\n",
      "23900\n",
      "24000\n",
      "24100\n",
      "24200\n",
      "24300\n",
      "24400\n",
      "24500\n",
      "24600\n",
      "24700\n",
      "24800\n",
      "24900\n",
      "25000\n",
      "25100\n",
      "25200\n",
      "25300\n",
      "25400\n",
      "25500\n",
      "25600\n",
      "25700\n",
      "25800\n",
      "25900\n",
      "26000\n",
      "26100\n",
      "26200\n",
      "26300\n",
      "26400\n",
      "26500\n",
      "26600\n",
      "26700\n",
      "26800\n",
      "26900\n",
      "27000\n",
      "27100\n",
      "27200\n",
      "27300\n",
      "27400\n",
      "27500\n",
      "27600\n",
      "27700\n",
      "27800\n",
      "27900\n",
      "28000\n",
      "28100\n",
      "28200\n",
      "28300\n",
      "28400\n",
      "28500\n",
      "28600\n",
      "28700\n",
      "28800\n",
      "28900\n",
      "29000\n",
      "29100\n",
      "29200\n",
      "29300\n",
      "29400\n",
      "29500\n",
      "29600\n",
      "29700\n",
      "29800\n",
      "29900\n",
      "30000\n",
      "30100\n",
      "30200\n",
      "30300\n",
      "30400\n",
      "30500\n",
      "30600\n",
      "30700\n",
      "30800\n",
      "30900\n",
      "31000\n",
      "31100\n",
      "31200\n",
      "31300\n",
      "31400\n",
      "31500\n",
      "31600\n",
      "31700\n",
      "31800\n",
      "31900\n",
      "32000\n",
      "32100\n",
      "32200\n",
      "32300\n",
      "32400\n",
      "32500\n",
      "32600\n",
      "32700\n",
      "32800\n",
      "32900\n",
      "33000\n",
      "33100\n",
      "33200\n",
      "33300\n",
      "33400\n",
      "33500\n",
      "33600\n",
      "33700\n",
      "33800\n",
      "33900\n",
      "34000\n",
      "34100\n",
      "34200\n",
      "34300\n",
      "34400\n",
      "34500\n",
      "34600\n",
      "34700\n",
      "34800\n",
      "34900\n",
      "35000\n",
      "35100\n",
      "35200\n",
      "35300\n",
      "35400\n",
      "35500\n",
      "35600\n",
      "35700\n",
      "35800\n",
      "35900\n",
      "36000\n",
      "36100\n",
      "36200\n",
      "36300\n",
      "36400\n",
      "36500\n",
      "36600\n",
      "36700\n",
      "36800\n",
      "36900\n",
      "37000\n",
      "37100\n",
      "1394\n"
     ]
    }
   ],
   "source": [
    "import numpy as np\n",
    "\n",
    "p_user_level = []\n",
    "r_user_level = []\n",
    "p_user_age = []\n",
    "r_user_age = []\n",
    "p_user_id = []\n",
    "r_user_id = []\n",
    "p_user_v = []\n",
    "r_user_v = []\n",
    "p_user_influ_level = []\n",
    "r_user_influ_level = []\n",
    "p_user_black_type = []\n",
    "r_user_black_type = []\n",
    "p_post_count = []\n",
    "r_post_count = []\n",
    "p_post_click_count = []\n",
    "r_post_click_count = []\n",
    "p_post_comment_count = []\n",
    "r_post_comment_count = []\n",
    "p_post_forward_count = []\n",
    "r_post_forward_count = []\n",
    "p_post_like_count = []\n",
    "r_post_like_count = []\n",
    "p_post_inshare_count = []\n",
    "r_post_inshare_count = []\n",
    "\n",
    "r_user_post_count = {}#initial a dict to obtain the number of post for rob user\n",
    "p_user_post_count = {}\n",
    "\n",
    "r_post_time = {}\n",
    "p_post_time = {}\n",
    "\n",
    "rob_num = 0\n",
    "for i in range(len(a)):  \n",
    "    user = a[i]['body']['post_user']\n",
    "    user_id = user['user_id']\n",
    "    if(i%100==0):\n",
    "        print(i)\n",
    "    if user_id == '':\n",
    "        continue   \n",
    "    if(int(user_id) in rob):\n",
    "        #cal the number of post from rob user\n",
    "        if user_id in r_user_post_count:\n",
    "            r_user_post_count[user_id] += 1\n",
    "        else:\n",
    "            r_user_post_count[user_id] = 1\n",
    "        # post time for user\n",
    "        if user_id in r_post_time:\n",
    "            r_post_time[user_id].append(a[i]['body']['post_publish_time'])\n",
    "        else:\n",
    "            r_post_time[user_id]=[]\n",
    "            r_post_time[user_id].append(a[i]['body']['post_publish_time'])\n",
    "        #rob num\n",
    "        rob_num+=1\n",
    "        #feature \n",
    "        r_user_id.append(int(user_id))\n",
    "        r_user_age.append(user['user_age'])\n",
    "        r_user_v.append(user['user_v'])\n",
    "        r_user_level.append(user['user_level'])\n",
    "        r_user_influ_level.append(user['user_influ_level'])\n",
    "        r_user_black_type.append(user['user_black_type'])\n",
    "        r_post_click_count.append(a[i]['body']['post_click_count'])\n",
    "        r_post_comment_count.append(a[i]['body']['post_comment_count'])\n",
    "        r_post_forward_count.append(a[i]['body']['post_forward_count'])\n",
    "        r_post_like_count.append(a[i]['body']['post_like_count'])\n",
    "        r_post_inshare_count.append(a[i]['body']['post_inshare_count'])\n",
    "    else:\n",
    "        #cal the number of post from people user\n",
    "        p_user_id.append(int(user_id))\n",
    "        if user_id in p_user_post_count:\n",
    "            p_user_post_count[user_id] += 1\n",
    "        else:\n",
    "            p_user_post_count[user_id] = 1\n",
    "        if user_id in p_post_time:\n",
    "            p_post_time[user_id].append(a[i]['body']['post_publish_time'])\n",
    "        else:\n",
    "            p_post_time[user_id]=[]\n",
    "            p_post_time[user_id].append(a[i]['body']['post_publish_time'])\n",
    "        p_user_age.append(user['user_age'])\n",
    "        p_user_v.append(user['user_v'])\n",
    "        p_user_level.append(user['user_level'])\n",
    "        p_user_influ_level.append(user['user_influ_level'])\n",
    "        p_user_black_type.append(user['user_black_type'])\n",
    "        p_post_click_count.append(a[i]['body']['post_click_count'])\n",
    "        p_post_comment_count.append(a[i]['body']['post_comment_count'])\n",
    "        p_post_forward_count.append(a[i]['body']['post_forward_count'])\n",
    "        p_post_like_count.append(a[i]['body']['post_like_count'])\n",
    "        p_post_inshare_count.append(a[i]['body']['post_inshare_count'])\n",
    "#p_user_level.append(user['user_level'])\n",
    "print(rob_num)    \n",
    "for user_id, post_count in r_user_post_count.items():\n",
    "    r_post_count.append(post_count)\n",
    "for user_id, post_count in p_user_post_count.items():\n",
    "    p_post_count.append(post_count)   \n",
    "    \n",
    "#x1=23456\n",
    "#x2=45678\n"
   ]
  },
  {
   "cell_type": "code",
   "execution_count": 24,
   "id": "7a028146",
   "metadata": {},
   "outputs": [
    {
     "name": "stdout",
     "output_type": "stream",
     "text": [
      "[9968113093535966, 7538385548031056]\n"
     ]
    }
   ],
   "source": [
    "print((p_user_id[0:2]))"
   ]
  },
  {
   "cell_type": "code",
   "execution_count": 25,
   "id": "1eb1aff3",
   "metadata": {},
   "outputs": [],
   "source": [
    "def cal_feature(r_user_influ_level,p_user_influ_level):\n",
    "    r_true_influ_level = 0\n",
    "    p_true_influ_level = 0\n",
    "    for i in range(0,len(r_user_influ_level)):\n",
    "        if(r_user_influ_level[i] == '' or r_user_influ_level[i] == '0'or int(r_user_influ_level[i]) == 0 ):\n",
    "            continue\n",
    "        if(ben_law(int(r_user_influ_level[i]))) == True:\n",
    "            r_true_influ_level+=1\n",
    "    for i in range(0,len(p_user_influ_level)):\n",
    "        if(ben_law(int(p_user_influ_level[i]))) == False:\n",
    "            p_true_influ_level+=1\n",
    "    return r_true_influ_level/len(r_user_influ_level),p_true_influ_level/len(p_user_influ_level)"
   ]
  },
  {
   "cell_type": "code",
   "execution_count": 26,
   "id": "50542dd4",
   "metadata": {},
   "outputs": [
    {
     "name": "stdout",
     "output_type": "stream",
     "text": [
      "['a']\n"
     ]
    }
   ],
   "source": [
    "dictA = {}\n",
    "dictA['123'] = []\n",
    "dictA['123'].append('a')\n",
    "print(dictA['123'])"
   ]
  },
  {
   "cell_type": "code",
   "execution_count": 27,
   "id": "a40da376",
   "metadata": {},
   "outputs": [],
   "source": [
    "def ben_law(x):\n",
    "    if x == 0:\n",
    "        return False\n",
    "    x1 = np.format_float_scientific(x,precision=0,trim='-')\n",
    "    d=int(x1[0])\n",
    "    if d==0:\n",
    "        print(x)\n",
    "        print(x1)\n",
    "    P=np.log10(1+1/d)\n",
    "    if(P<0.05):\n",
    "        return True\n",
    "    else:\n",
    "        return False"
   ]
  },
  {
   "cell_type": "code",
   "execution_count": 28,
   "id": "a9662406",
   "metadata": {
    "scrolled": true
   },
   "outputs": [
    {
     "name": "stdout",
     "output_type": "stream",
     "text": [
      "[2.2, 2.8, 0.5833333333333334, 2.2, 2.8, 2.2, 3.1, 3.1, 2.2, 2.8, 2.2, 2.8, 2.2, 2.8, 2.2, 0.5833333333333334, 0.5833333333333334, 3.1, 3.1, 3.1, 3.1, 3.1, 3.1, 3.1, 3.1, 3.1, 3.1, 3.1, 3.1, 3.1, 5.8, 3.1, 3.1, 3.1, 3.1, 3.1, 3.1, 3.1, 3.1, 3.1, 3.1, 6.0, 3.1, 3.1, 3.1, 3.1, 3.1, 3.1, 3.1, 3.1, 3.1, 3.1, 3.1, 3.1, 3.1, 3.1, 3.1, 3.1, 3.1, 6.5, 3.2, 3.2, 6.3, 6.3, 6.3, 6.3, 6.3, 6.3, 6.3, 6.3, 6.3, 6.3, 6.3, 6.3, 6.3, 6.3, 6.3, 6.3, 3.2, 3.2, 3.2, 3.2, 3.2, 3.2, 0.5833333333333334, 0.8333333333333334, 8.8, 4.6, 4.6, 13.7, 13.7, 13.7, 13.7, 13.7, 13.7, 13.7, 13.7, 13.7, 13.7, 13.7, 13.7, 13.7, 13.7, 13.7, 13.7, 13.7, 4.5, 4.5, 5.5, 13.7, 13.7, 13.7, 5.4, 5.4, 5.4, 5.4, 6.3, 13.7, 13.7, 13.7, 13.7, 13.7, 13.7, 13.7, 13.7, 13.7, 13.7, 13.7, 5.7, 5.7, 5.7, 5.7, 5.7, 5.7, 5.7, 5.7, 5.7, 5.7, 5.7, 4.2, 12.0, 12.0, 12.0, 6.3, 10.5, 13.9, 10.6, 6.2, 10.5, 13.9, 10.6, 6.2, 10.5, 13.9, 3.9, 7.1, 7.0, 5.3, 5.8, 5.8, 3.4, 3.3, 3.3, 3.3, 3.3, 3.3, 4.0, 3.3, 3.1, 3.1, 6.7, 6.7, 6.7, 6.7, 6.7, 3.0, 6.7, 14.8, 14.8, 14.8, 14.8, 14.8, 14.8, 14.8, 14.8, 14.8, 14.8, 14.8, 14.8, 14.8, 14.8, 14.8, 14.8, 14.8, 14.8, 14.8, 14.8, 14.8, 14.8, 14.8, 14.8, 14.8, 14.8, 14.8, 14.8, 14.8, 14.8, 14.8, 14.8, 14.8, 14.8, 14.8, 14.8, 14.8, 14.8, 14.8, 14.8, 14.8, 14.8, 14.8, 14.8, 14.8, 14.8, 14.8, 14.8, 14.8, 14.8, 14.8, 14.8, 14.8, 14.8, 14.8, 14.8, 14.8, 14.8, 14.8, 14.8, 14.8, 14.8, 14.8, 14.8, 14.8, 14.8, 14.8, 14.8, 14.8, 14.8, 14.8, 14.8, 14.8, 14.8, 14.8, 14.8, 14.8, 14.8, 14.8, 14.8, 14.8, 14.8, 14.8, 14.8, 14.8, 14.8, 14.8, 14.8, 14.8, 14.8, 14.8, 14.8, 14.8, 14.8, 14.8, 14.8, 14.8, 14.8, 14.8, 14.8, 14.8, 14.8, 14.8, 14.8, 14.8, 14.8, 14.8, 14.8, 14.8, 14.8, 14.8, 14.8, 14.8, 14.8, 14.8, 14.8, 14.8, 2.9, 14.8, 14.8, 14.8, 14.8, 14.8, 14.8, 14.8, 14.8, 14.8, 14.8, 14.8, 14.8, 14.8, 14.8, 14.8, 14.8, 14.8, 14.8, 14.8, 14.8, 14.8, 14.8, 14.8, 14.8, 14.8, 14.8, 14.8, 14.8, 14.8, 14.8, 14.8, 14.8, 14.8, 14.8, 14.8, 14.8, 14.8, 14.8, 14.8, 14.8, 14.8, 14.8, 14.8, 14.8, 14.8, 14.8, 14.8, 14.8, 14.8, 14.8, 14.8, 14.8, 14.8, 14.8, 14.8, 14.8, 14.8, 14.8, 14.8, 14.8, 14.8, 14.8, 14.8, 14.8, 14.8, 14.8, 14.8, 14.8, 14.8, 14.8, 14.8, 14.8, 14.8, 14.8, 14.8, 14.8, 14.8, 14.8, 14.8, 14.8, 14.8, 14.8, 14.8, 14.8, 14.8, 14.8, 14.8, 14.8, 14.8, 14.8, 14.8, 14.8, 6.4, 14.8, 14.8, 14.8, 14.8, 14.8, 14.8, 14.8, 14.8, 14.8, 14.8, 14.8, 14.8, 14.8, 14.8, 14.8, 14.8, 14.8, 14.8, 14.8, 14.8, 14.8, 14.8, 14.8, 14.8, 14.8, 14.8, 14.8, 14.8, 14.8, 14.8, 14.8, 14.8, 14.8, 14.8, 14.8, 14.8, 14.8, 14.8, 14.8, 14.8, 14.8, 14.8, 14.8, 14.8, 14.8, 14.8, 14.8, 14.8, 14.8, 14.8, 14.8, 14.8, 14.8, 14.8, 14.8, 14.8, 14.8, 14.8, 14.8, 14.8, 14.8, 14.8, 14.8, 14.8, 14.8, 14.8, 14.8, 14.8, 14.8, 14.8, 14.8, 14.8, 14.8, 14.8, 14.8, 14.8, 14.8, 14.8, 14.8, 14.8, 14.8, 14.8, 14.8, 14.8, 14.8, 14.8, 14.8, 14.8, 14.8, 14.8, 14.8, 14.8, 14.8, 14.8, 14.8, 14.8, 14.8, 14.8, 14.8, 14.8, 14.8, 14.8, 14.8, 14.8, 14.8, 14.8, 14.8, 14.8, 14.8, 14.8, 14.8, 14.8, 14.8, 14.8, 14.8, 14.8, 14.8, 14.8, 14.8, 14.8, 14.8, 14.8, 14.8, 14.8, 14.8, 14.8, 14.8, 14.8, 14.8, 14.8, 14.8, 14.8, 14.8, 14.8, 14.8, 14.8, 14.8, 14.8, 14.8, 14.8, 14.8, 14.8, 14.8, 14.8, 14.8, 14.8, 14.8, 14.8, 14.8, 14.8, 14.8, 14.8, 14.8, 14.8, 14.8, 14.8, 14.8, 14.8, 14.8, 14.8, 14.8, 14.8, 14.8, 14.8, 14.8, 14.8, 14.8, 14.8, 14.8, 14.8, 14.8, 14.8, 14.8, 14.8, 14.8, 14.8, 14.8, 14.8, 14.8, 14.8, 14.8, 14.8, 14.8, 14.8, 14.8, 14.8, 14.8, 14.8, 14.8, 14.8, 14.8, 14.8, 14.8, 14.8, 14.8, 14.8, 14.8, 14.8, 14.8, 14.8, 14.8, 14.8, 14.8, 14.8, 14.8, 14.8, 14.8, 14.8, 14.8, 14.8, 14.8, 14.8, 14.8, 14.8, 14.8, 14.8, 14.8, 14.8, 14.8, 14.8, 14.8, 14.8, 14.8, 14.8, 14.8, 14.8, 14.8, 14.8, 14.8, 14.8, 14.8, 14.8, 14.8, 14.8, 14.8, 14.8, 14.8, 14.8, 14.8, 14.8, 14.8, 14.8, 14.8, 14.8, 14.8, 14.8, 14.8, 14.8, 14.8, 14.8, 14.8, 14.8, 14.8, 14.8, 14.8, 14.8, 14.8, 14.8, 14.8, 14.8, 14.8, 14.8, 14.8, 14.8, 14.8, 14.8, 14.8, 14.8, 14.8, 14.8, 14.8, 14.8, 14.8, 14.8, 14.8, 14.8, 14.8, 2.0, 14.8, 14.8, 14.8, 14.8, 14.8, 14.8, 14.8, 14.8, 14.8, 14.8, 14.8, 14.8, 14.8, 14.8, 14.8, 14.8, 14.8, 14.8, 14.8, 14.8, 14.8, 14.8, 14.8, 14.8, 14.8, 14.8, 14.8, 14.8, 14.8, 14.8, 14.8, 14.8, 14.8, 14.8, 5.7, 5.7, 5.7, 14.8, 14.8, 5.7, 5.7, 5.7, 5.7, 5.7, 5.7, 14.8, 14.8, 14.8, 14.8, 14.8, 14.8, 14.8, 14.8, 14.8, 14.8, 14.8, 14.8, 14.8, 14.8, 14.8, 14.8, 14.8, 14.8, 3.8, 3.8, 3.8, 3.8, 3.8, 3.8, 3.8, 3.8, 3.8, 14.8, 14.8, 14.8, 14.8, 14.8, 14.8, 14.8, 14.8, 14.8, 14.8, 14.8, 14.8, 14.8, 14.8, 14.8, 14.8, 14.8, 5.2, 14.8, 14.8, 1.8, 14.8, 14.8, 14.8, 14.8, 14.8, 14.8, 14.8, 14.8, 14.8, 14.8, 14.8, 14.8, 14.8, 14.8, 14.8, 14.8, 14.8, 14.8, 14.8, 14.8, 14.8, 14.8, 14.8, 14.8, 14.8, 14.8, 14.8, 14.8, 14.8, 14.8, 14.8, 14.8, 14.8, 14.8, 14.8, 14.8, 14.8, 14.8, 14.8, 14.8, 14.8, 1.7, 1.7, 1.7, 1.7, 1.7, 1.7, 2.2, 1.7, 1.7, 1.7, 1.7, 1.7, 1.7, 2.2, 1.7, 1.7, 1.7, 1.7, 1.7, 1.7, 1.7, 1.7, 14.8, 14.8, 14.8, 14.8, 14.8, 14.8, 14.8, 14.8, 14.8, 14.8, 14.8, 14.8, 14.8, 14.8, 14.8, 14.8, 14.8, 14.8, 14.8, 14.8, 14.8, 14.8, 14.8, 14.8, 14.8, 14.8, 14.8, 14.8, 14.8, 14.8, 14.8, 14.8, 14.8, 14.8, 14.8, 14.8, 14.8, 14.8, 14.8, 14.8, 14.8, 14.8, 14.8, 14.8, 14.8, 14.8, 14.8, 14.8, 14.8, 14.8, 14.8, 14.8, 14.8, 14.8, 14.8, 14.8, 14.8, 14.8, 14.8, 14.8, 14.8, 14.8, 14.8, 14.8, 14.8, 14.8, 14.8, 14.8, 14.8, 14.8, 14.8, 14.8, 14.8, 14.8, 14.8, 14.8, 14.8, 14.8, 14.8, 14.8, 14.8, 14.8, 14.8, 14.8, 14.8, 14.8, 14.8, 14.8, 14.8, 14.8, 14.8, 14.8, 14.8, 14.8, 14.8, 14.8, 14.8, 14.8, 14.8, 14.8, 14.8, 14.8, 14.8, 14.8, 14.8, 14.8, 14.8, 14.8, 14.8, 14.8, 14.8, 14.8, 14.8, 14.8, 14.8, 14.8, 14.8, 14.8, 14.8, 14.8, 14.8, 14.8, 14.8, 14.8, 14.8, 14.8, 14.8, 14.8, 14.8, 14.8, 14.8, 14.8, 14.8, 14.8, 14.8, 14.8, 14.8, 14.8, 14.8, 14.8, 14.8, 14.8, 14.8, 14.8, 14.8, 14.8, 14.8, 14.8, 14.8, 14.8, 15.5, 14.8, 14.8, 14.8, 14.8, 14.8, 14.8, 14.8, 14.8, 14.8, 14.8, 14.8, 14.8, 14.8, 14.8, 14.8, 14.8, 14.8, 14.8, 14.8, 3.6, 14.8, 14.8, 14.8, 14.8, 14.8, 14.8, 14.8, 14.8, 0.9166666666666666, 0.9166666666666666, 0.9166666666666666, 14.8, 14.8, 14.8, 14.8, 14.8, 14.8, 14.8, 14.8, 14.8, 14.8, 0.8333333333333334, 0.8333333333333334, 0.8333333333333334, 0.8333333333333334, 0.8333333333333334, 0.8333333333333334, 0.8333333333333334, 0.8333333333333334, 14.8, 0.8333333333333334, 0.8333333333333334, 0.8333333333333334, 0.8333333333333334, 0.8333333333333334, 0.8333333333333334, 0.8333333333333334, 0.8333333333333334, 0.8333333333333334, 14.8, 0.8333333333333334, 0.8333333333333334, 0.8333333333333334, 0.8333333333333334, 0.8333333333333334, 0.8333333333333334, 0.8333333333333334, 14.8, 14.8, 14.8, 14.8, 14.8, 14.8, 14.8, 14.8, 14.8, 14.8, 14.8, 14.8, 14.8, 14.8, 14.8, 14.8, 14.8, 14.8, 14.8, 14.8, 14.8, 14.8, 14.8, 14.8, 14.8, 14.8, 14.8, 14.8, 14.8, 14.8, 14.8, 14.8, 14.8, 14.8, 14.8, 14.8, 14.8, 14.8, 14.8, 14.8, 14.8, 14.8, 14.8, 14.8, 14.8, 14.8, 14.8, 8.3, 8.3, 8.3, 8.3, 8.3, 8.3, 8.3, 8.3, 8.3, 8.3, 8.3, 8.3, 8.3, 8.3, 8.3, 8.3, 8.3, 8.3, 8.3, 8.3, 8.7, 8.7, 8.7, 8.7, 8.7, 8.7, 8.7, 8.7, 8.7, 8.7, 8.7, 8.7, 2.2, 2.2, 7.1, 7.1, 7.1, 7.1, 7.1, 7.1, 7.1, 7.1, 7.1, 7.1, 7.1, 7.1, 7.1, 7.1, 7.1, 7.1, 7.1, 7.1, 7.1, 7.1, 7.1, 7.1, 7.1, 7.1, 7.1, 7.1, 7.1, 7.1, 7.1, 7.1, 7.1, 2.2, 7.1, 7.1, 7.1, 7.1, 7.1, 7.1, 7.1, 7.1, 7.1, 7.1, 7.1, 7.1, 7.1, 7.1, 7.1, 7.1, 7.1, 7.1, 2.2, 7.1, 7.1, 7.1, 7.1, 7.1, 7.1, 7.1, 7.1, 7.1, 7.1, 7.1, 7.1, 7.1, 7.1, 7.1, 7.1, 7.1, 7.1, 7.1, 2.2, 2.2, 2.2, 2.8, 2.2, 2.8, 2.2, 2.8, 2.2, 2.8, 2.2, 2.8, 2.2, 2.8, 2.2, 2.8, 2.2, 2.8, 2.2, 2.8, 2.2, 2.8, 2.2, 2.8, 2.2, 2.8, 2.2, 2.8, 2.2, 2.8, 2.2, 2.8, 2.2, 2.8, 2.2, 2.8, 2.2, 2.8, 2.2, 2.8, 2.2, 2.8, 2.2, 2.8, 2.2, 2.8, 2.2, 2.8, 2.2, 2.8, 2.2, 2.8, 2.2, 2.8, 2.2, 2.2, 3.1, 2.8, 2.2, 2.8, 2.2, 2.8, 2.2, 2.8, 2.2, 2.8, 2.2, 3.1, 2.2, 2.8, 2.2, 2.8, 2.2, 2.8, 2.2, 2.8, 2.2, 2.8, 2.2, 3.1, 3.1, 2.2, 2.8, 2.2, 2.8, 2.2, 2.8, 2.2, 2.8, 2.2, 2.8, 2.2, 3.1, 3.1, 2.2, 2.8, 2.2, 2.8, 2.2, 2.8, 2.2, 2.8, 2.2, 2.8, 2.2, 3.1, 3.1, 2.2, 2.8, 2.2, 2.8, 2.2, 2.8, 2.2, 2.8, 2.2, 2.8, 2.2, 3.1, 3.1, 2.2, 2.8, 2.2, 2.8, 2.2, 2.8, 2.2, 2.8, 2.2, 2.8, 2.2, 3.1, 3.1, 2.2, 2.8, 2.2, 2.8, 2.2, 2.8, 2.2, 2.8, 2.2, 2.8, 2.2, 3.2, 2.3, 2.9, 2.3, 2.9, 2.2, 2.8, 2.2, 2.8, 2.2, 3.1, 3.1, 2.2, 2.8, 2.2, 5.3, 5.3, 2.2, 2.8, 2.2, 2.8, 2.2, 2.8, 2.2, 3.1, 3.1, 2.2, 2.8, 2.2, 2.8, 2.2, 2.8, 2.2, 2.8, 2.2, 2.8, 2.2, 3.1, 3.1, 2.2, 2.8, 2.2, 2.8, 2.2, 2.8, 2.2, 2.8, 2.2, 2.8, 2.2, 3.1, 3.1, 2.2, 2.8, 0.5833333333333334, 2.2, 2.8, 2.2, 2.8]\n"
     ]
    }
   ],
   "source": [
    "#for the feature of user_age\n",
    "r_true_age = 0\n",
    "p_true_age = 0\n",
    "p_user_age_c = []\n",
    "r_user_age_c = []\n",
    "for i in range(0,len(r_user_age)):\n",
    "    if(r_user_age[i][-1]) == '月':\n",
    "        age = float(int(r_user_age[i][0:-2])/12)\n",
    "    else:\n",
    "        age = float(r_user_age[i][0:-1])\n",
    "    #print(age)\n",
    "    r_user_age_c.append(age)\n",
    "    if(ben_law(age)==True):\n",
    "        r_true_age+=1\n",
    "for i in range(0,len(p_user_age)):\n",
    "    if(p_user_age[i][-1]) == '月':\n",
    "        age = float(int(p_user_age[i][0:-2])/12)\n",
    "    else:\n",
    "        age = float(p_user_age[i][0:-1])\n",
    "    p_user_age_c.append(age)\n",
    "    if(ben_law(age)==True):\n",
    "        p_true_age+=1\n",
    "#print(\"the percentage of rob user_age fit the benlaw:\",r_true_age/len(r_user_age))\n",
    "#print(\"the percentage of peoplr user_age disobey the benlaw:\",(len(p_user_age)-p_true_age)/len(p_user_age))\n",
    "print(r_user_age_c)\n",
    "    \n",
    "        \n"
   ]
  },
  {
   "cell_type": "code",
   "execution_count": 29,
   "id": "8c74a6c8",
   "metadata": {},
   "outputs": [
    {
     "name": "stdout",
     "output_type": "stream",
     "text": [
      "the percentage of rob user_age fit the benlaw: 0.011477761836441894\n",
      "the percentage of people user_age disobey the benlaw: 0.927191051885797\n"
     ]
    }
   ],
   "source": [
    "print(\"the percentage of rob user_age fit the benlaw:\",r_true_age/len(r_user_age))\n",
    "print(\"the percentage of people user_age disobey the benlaw:\",(len(p_user_age)-p_true_age)/len(p_user_age))\n"
   ]
  },
  {
   "cell_type": "code",
   "execution_count": 30,
   "id": "e193badd",
   "metadata": {},
   "outputs": [
    {
     "name": "stdout",
     "output_type": "stream",
     "text": [
      "0.043041606886657105\n",
      "0.9966836503964546\n"
     ]
    }
   ],
   "source": [
    "# for the feature of user_v all are the zero\n",
    "# for the feature of user_influ_level\n",
    "p1,p2 = cal_feature(r_user_influ_level,p_user_influ_level)\n",
    "print(p1)\n",
    "print(p2)"
   ]
  },
  {
   "cell_type": "code",
   "execution_count": 31,
   "id": "68dab28c",
   "metadata": {},
   "outputs": [
    {
     "name": "stdout",
     "output_type": "stream",
     "text": [
      "0 33169\n"
     ]
    }
   ],
   "source": [
    "r_true_black_type = 0\n",
    "p_true_black_type = 0\n",
    "# All are zero?\n",
    "for i in range(0,len(r_user_black_type)):\n",
    "    if(r_user_black_type[i] == '' or r_user_black_type[i] == '0'or int(r_user_black_type[i]) == 0 ):\n",
    "        continue\n",
    "    if(ben_law(int(r_user_black_type[i]))) == True:\n",
    "        r_true_black_type+=1\n",
    "for i in range(0,len(p_user_black_type)):\n",
    "    if(ben_law(int(p_user_black_type[i]))) == False:\n",
    "        p_true_black_type+=1\n",
    "print(r_true_black_type,p_true_black_type)"
   ]
  },
  {
   "cell_type": "code",
   "execution_count": 32,
   "id": "5ce8f3ef",
   "metadata": {},
   "outputs": [
    {
     "name": "stdout",
     "output_type": "stream",
     "text": [
      "0.0\n",
      "1.0\n"
     ]
    }
   ],
   "source": [
    "print(r_true_black_type/len(r_user_black_type))    \n",
    "print(p_true_black_type/len(p_user_black_type))"
   ]
  },
  {
   "cell_type": "code",
   "execution_count": 33,
   "id": "14b3fb9f",
   "metadata": {},
   "outputs": [
    {
     "name": "stdout",
     "output_type": "stream",
     "text": [
      "0 33169\n"
     ]
    }
   ],
   "source": [
    "r_true_user_v = 0\n",
    "p_true_user_v = 0\n",
    "# All are zero?\n",
    "for i in range(0,len(r_user_v)):\n",
    "    if(r_user_v[i] == '' or r_user_v[i] == '0'or int(r_user_v[i]) == 0 ):\n",
    "        continue\n",
    "    if(ben_law(int(r_user_v[i]))) == True:\n",
    "        r_true_black_type+=1\n",
    "for i in range(0,len(p_user_v)):\n",
    "    if(ben_law(int(p_user_v[i]))) == False:\n",
    "        p_true_user_v+=1\n",
    "print(r_true_user_v,p_true_user_v)"
   ]
  },
  {
   "cell_type": "code",
   "execution_count": 34,
   "id": "80d44344",
   "metadata": {},
   "outputs": [
    {
     "name": "stdout",
     "output_type": "stream",
     "text": [
      "0.05 0.9952338727554866\n"
     ]
    }
   ],
   "source": [
    "p1,p2 = cal_feature(r_post_count,p_post_count)\n",
    "print(p1,p2)"
   ]
  },
  {
   "cell_type": "code",
   "execution_count": 35,
   "id": "2d6d17ef",
   "metadata": {},
   "outputs": [
    {
     "name": "stdout",
     "output_type": "stream",
     "text": [
      "0.019368723098995694 0.9697609213422171\n"
     ]
    }
   ],
   "source": [
    "p1,p2 = cal_feature(r_post_click_count,p_post_click_count)\n",
    "print(p1,p2)"
   ]
  },
  {
   "cell_type": "code",
   "execution_count": 36,
   "id": "deb009af",
   "metadata": {},
   "outputs": [
    {
     "name": "stdout",
     "output_type": "stream",
     "text": [
      "0.0014347202295552368 0.9937290843860231\n"
     ]
    }
   ],
   "source": [
    "p1,p2 = cal_feature(r_post_comment_count,p_post_comment_count)\n",
    "print(p1,p2)"
   ]
  },
  {
   "cell_type": "code",
   "execution_count": 37,
   "id": "c1880c97",
   "metadata": {},
   "outputs": [
    {
     "name": "stdout",
     "output_type": "stream",
     "text": [
      "0.0007173601147776184 0.9978292984413157\n"
     ]
    }
   ],
   "source": [
    "p1,p2 = cal_feature(r_post_forward_count,p_post_forward_count)\n",
    "print(p1,p2)"
   ]
  },
  {
   "cell_type": "code",
   "execution_count": 38,
   "id": "97694eba",
   "metadata": {},
   "outputs": [
    {
     "name": "stdout",
     "output_type": "stream",
     "text": [
      "0.002152080344332855 0.9937592330187826\n"
     ]
    }
   ],
   "source": [
    "p1,p2 = cal_feature(r_post_like_count,p_post_like_count)\n",
    "print(p1,p2)"
   ]
  },
  {
   "cell_type": "code",
   "execution_count": 39,
   "id": "01a7dbe2",
   "metadata": {},
   "outputs": [
    {
     "name": "stdout",
     "output_type": "stream",
     "text": [
      "0.0 1.0\n"
     ]
    }
   ],
   "source": [
    "p1,p2 = cal_feature(r_post_inshare_count,p_post_inshare_count)\n",
    "print(p1,p2)"
   ]
  },
  {
   "cell_type": "code",
   "execution_count": 40,
   "id": "70447f6d",
   "metadata": {},
   "outputs": [
    {
     "name": "stdout",
     "output_type": "stream",
     "text": [
      "0.0 1.0\n"
     ]
    }
   ],
   "source": [
    "p1,p2 = cal_feature(r_user_level,p_user_level)\n",
    "print(p1,p2)"
   ]
  },
  {
   "cell_type": "code",
   "execution_count": 51,
   "id": "00235832",
   "metadata": {
    "scrolled": true
   },
   "outputs": [
    {
     "name": "stdout",
     "output_type": "stream",
     "text": [
      "0\n",
      "5000\n",
      "10000\n",
      "15000\n",
      "20000\n",
      "25000\n",
      "30000\n"
     ]
    }
   ],
   "source": [
    "'''\n",
    "we have r_user_id means rob user id \n",
    "divide it to train and test\n",
    "\n",
    "All unlabeled data put into train\n",
    "train_data:concact the unlabeled data and labeled_train_data \n",
    "test_data: len(r_user_id)*0.3\n",
    "'''\n",
    "\n",
    "'''\n",
    "assume the fist 2000 unlabel-data is people\n",
    "set label for data\n",
    "people label =0\n",
    "rob label =1\n",
    "unlabel =-1\n",
    "'''\n",
    "#train_y [people(0),rob(1),unlabel(-1)]\n",
    "y_train = []\n",
    "people_num = 2000\n",
    "\n",
    "people_train = p_user_id[:people_num]\n",
    "y_people_train = list(np.zeros([len(people_train)]))\n",
    "\n",
    "size_train = 1000\n",
    "rob_train = r_user_id[:size_train]\n",
    "y_rob_train = list(np.ones([len(rob_train)]))\n",
    "size_train_people = 300\n",
    "\n",
    "unlabel_id = p_user_id[people_num:-people_num]\n",
    "y_unlabel_train = [0 for i in range(len(unlabel_id))]\n",
    "\n",
    "y_train = y_people_train + y_rob_train + y_unlabel_train\n",
    "\n",
    "#train_feature concact\n",
    "train_feature1 = p_user_age_c[:people_num]+r_user_age_c[:size_train]+p_user_age_c[people_num:-size_train_people]\n",
    "train_feature2 = p_user_influ_level[:people_num]+r_user_influ_level[:size_train]+p_user_influ_level[people_num:-size_train_people]\n",
    "train_feature3 = p_post_click_count[:people_num]+r_post_click_count[:size_train]+p_post_click_count[people_num:-size_train_people]\n",
    "train_feature4 = p_post_comment_count[:people_num]+r_post_comment_count[:size_train]+p_post_comment_count[people_num:-size_train_people]\n",
    "train_feature5 = p_post_forward_count[:people_num]+r_post_forward_count[:size_train]+p_post_forward_count[people_num:-size_train_people]\n",
    "train_feature6 = p_post_like_count[:people_num]+r_post_like_count[:size_train]+p_post_like_count[people_num:-size_train_people]\n",
    "#train id\n",
    "train_id = []\n",
    "train_id = people_train + rob_train + unlabel_id\n",
    "n_feature = 6\n",
    "#train X [user_age,user_influ_level,post_click_count,post_comment_count,post_forward_count，post_like_count]\n",
    "X = []\n",
    "for i in range(len(train_id)):\n",
    "    if(i%5000 == 0):\n",
    "        print(i, flush = True)\n",
    "    X.append([train_feature1[i],train_feature2[i],train_feature3[i],train_feature4[i],train_feature5[i],train_feature6[i]])\n",
    "# print(X)\n",
    "#test\n",
    "test_id_p = p_user_id[-size_train_people:]\n",
    "test_id_r = r_user_id[size_train:]\n",
    "test_y = list(np.ones(len(test_id_r)))+list(np.zeros(len(test_id_p)))\n",
    "test_id = test_id_p + test_id_r\n",
    "#test feature\n",
    "test_X = []\n",
    "t_f1 =  r_user_age_c[size_train:]+p_user_age_c[-size_train_people:]\n",
    "t_f2 = r_user_influ_level[size_train:]+p_user_influ_level[-size_train_people:]\n",
    "t_f3 = r_post_click_count[size_train:]+p_post_click_count[-size_train_people:]\n",
    "t_f4 = r_post_comment_count[size_train:]+p_post_comment_count[-size_train_people:]\n",
    "t_f5 = r_post_forward_count[size_train:]+p_post_forward_count[-size_train_people:]\n",
    "t_f6 = r_post_like_count[size_train:]+p_post_like_count[-size_train_people:]\n",
    "\n",
    "\n",
    "    \n",
    "    "
   ]
  },
  {
   "cell_type": "code",
   "execution_count": 52,
   "id": "aa183a2e-fbdf-497b-afe5-e630e94d4327",
   "metadata": {},
   "outputs": [
    {
     "name": "stdout",
     "output_type": "stream",
     "text": [
      "0\n",
      "500\n"
     ]
    }
   ],
   "source": [
    "test_X = []\n",
    "for i in range(len(test_id)):\n",
    "    if(i%500 == 0):\n",
    "        print(i, flush = True)\n",
    "    test_X.append([t_f1[i],t_f2[i],t_f3[i],t_f4[i],t_f5[i],t_f6[i]])\n",
    "test_X = np.array(test_X)"
   ]
  },
  {
   "cell_type": "code",
   "execution_count": 53,
   "id": "759ee66c-7b79-4e0b-ab43-bb8089949833",
   "metadata": {},
   "outputs": [
    {
     "data": {
      "text/plain": [
       "Pipeline(steps=[('standardscaler', StandardScaler()),\n",
       "                ('svc', SVC(gamma='auto'))])"
      ]
     },
     "execution_count": 53,
     "metadata": {},
     "output_type": "execute_result"
    }
   ],
   "source": [
    "from sklearn.svm import SVC\n",
    "import numpy as np\n",
    "from sklearn.pipeline import make_pipeline\n",
    "from sklearn.preprocessing import StandardScaler\n",
    "\n",
    "\n",
    "clf = make_pipeline(StandardScaler(), SVC(gamma='auto'))\n",
    "clf.fit(X, y_train)"
   ]
  },
  {
   "cell_type": "code",
   "execution_count": 44,
   "id": "19cd4a88-d9f2-45a2-bd84-060a795414f7",
   "metadata": {},
   "outputs": [
    {
     "data": {
      "text/plain": [
       "(694, 6)"
      ]
     },
     "execution_count": 44,
     "metadata": {},
     "output_type": "execute_result"
    }
   ],
   "source": [
    "test_X.shape"
   ]
  },
  {
   "cell_type": "code",
   "execution_count": 59,
   "id": "af67837c-f0d6-43b5-bc7a-1ea948dc6836",
   "metadata": {},
   "outputs": [],
   "source": [
    "test_y = np.array(test_y)"
   ]
  },
  {
   "cell_type": "code",
   "execution_count": 61,
   "id": "9ad762a4-25d9-4e74-9a5b-d959f59c12f0",
   "metadata": {},
   "outputs": [
    {
     "data": {
      "text/plain": [
       "(694,)"
      ]
     },
     "execution_count": 61,
     "metadata": {},
     "output_type": "execute_result"
    }
   ],
   "source": [
    "test_y.shape"
   ]
  },
  {
   "cell_type": "code",
   "execution_count": 55,
   "id": "bd88da5b-5f60-4695-a0a5-364a1b869f82",
   "metadata": {},
   "outputs": [],
   "source": [
    "predict_result = clf.predict(test_X)"
   ]
  },
  {
   "cell_type": "code",
   "execution_count": 62,
   "id": "03121347-3dc0-44a4-83a2-006a98477f11",
   "metadata": {},
   "outputs": [
    {
     "data": {
      "text/plain": [
       "(694,)"
      ]
     },
     "execution_count": 62,
     "metadata": {},
     "output_type": "execute_result"
    }
   ],
   "source": [
    "predict_result.shape"
   ]
  },
  {
   "cell_type": "code",
   "execution_count": 65,
   "id": "16b43c64-53e2-4d3b-a5fc-96bcb4db1c7f",
   "metadata": {},
   "outputs": [
    {
     "data": {
      "text/plain": [
       "0.8011527377521613"
      ]
     },
     "execution_count": 65,
     "metadata": {},
     "output_type": "execute_result"
    }
   ],
   "source": [
    "np.sum(predict_result == test_y) / len(test_X)"
   ]
  },
  {
   "cell_type": "code",
   "execution_count": 157,
   "id": "1820baa2",
   "metadata": {},
   "outputs": [
    {
     "data": {
      "text/plain": [
       "0"
      ]
     },
     "execution_count": 157,
     "metadata": {},
     "output_type": "execute_result"
    }
   ],
   "source": [
    "np.array(y_train, dtype=int)[0]"
   ]
  },
  {
   "cell_type": "code",
   "execution_count": null,
   "id": "1ede8487",
   "metadata": {},
   "outputs": [],
   "source": []
  }
 ],
 "metadata": {
  "kernelspec": {
   "display_name": "Python 3 (ipykernel)",
   "language": "python",
   "name": "python3"
  },
  "language_info": {
   "codemirror_mode": {
    "name": "ipython",
    "version": 3
   },
   "file_extension": ".py",
   "mimetype": "text/x-python",
   "name": "python",
   "nbconvert_exporter": "python",
   "pygments_lexer": "ipython3",
   "version": "3.9.12"
  }
 },
 "nbformat": 4,
 "nbformat_minor": 5
}
